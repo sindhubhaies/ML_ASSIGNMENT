{
  "cells": [
    {
      "cell_type": "markdown",
      "id": "8a4a5393-2a8c-4ded-b7d8-9e92e521ce2e",
      "metadata": {
        "id": "8a4a5393-2a8c-4ded-b7d8-9e92e521ce2e"
      },
      "source": [
        "## ML Feature Engineering Assignment"
      ]
    },
    {
      "cell_type": "markdown",
      "id": "401dfe68-907b-41cc-8d7c-58ec45a07f7e",
      "metadata": {
        "id": "401dfe68-907b-41cc-8d7c-58ec45a07f7e"
      },
      "source": [
        "### 1. Loading Dataset (Iris, Boston)"
      ]
    },
    {
      "cell_type": "code",
      "execution_count": null,
      "id": "497a313e-30b1-4a74-b039-c6eae86c32a1",
      "metadata": {
        "id": "497a313e-30b1-4a74-b039-c6eae86c32a1",
        "outputId": "ac71e447-9a0f-4eea-cef7-d10819b9303d"
      },
      "outputs": [
        {
          "data": {
            "text/html": [
              "<div>\n",
              "<style scoped>\n",
              "    .dataframe tbody tr th:only-of-type {\n",
              "        vertical-align: middle;\n",
              "    }\n",
              "\n",
              "    .dataframe tbody tr th {\n",
              "        vertical-align: top;\n",
              "    }\n",
              "\n",
              "    .dataframe thead th {\n",
              "        text-align: right;\n",
              "    }\n",
              "</style>\n",
              "<table border=\"1\" class=\"dataframe\">\n",
              "  <thead>\n",
              "    <tr style=\"text-align: right;\">\n",
              "      <th></th>\n",
              "      <th>sepal length (cm)</th>\n",
              "      <th>sepal width (cm)</th>\n",
              "      <th>petal length (cm)</th>\n",
              "      <th>petal width (cm)</th>\n",
              "      <th>target</th>\n",
              "    </tr>\n",
              "  </thead>\n",
              "  <tbody>\n",
              "    <tr>\n",
              "      <th>0</th>\n",
              "      <td>5.1</td>\n",
              "      <td>3.5</td>\n",
              "      <td>1.4</td>\n",
              "      <td>0.2</td>\n",
              "      <td>0</td>\n",
              "    </tr>\n",
              "    <tr>\n",
              "      <th>1</th>\n",
              "      <td>4.9</td>\n",
              "      <td>3.0</td>\n",
              "      <td>1.4</td>\n",
              "      <td>0.2</td>\n",
              "      <td>0</td>\n",
              "    </tr>\n",
              "    <tr>\n",
              "      <th>2</th>\n",
              "      <td>4.7</td>\n",
              "      <td>3.2</td>\n",
              "      <td>1.3</td>\n",
              "      <td>0.2</td>\n",
              "      <td>0</td>\n",
              "    </tr>\n",
              "    <tr>\n",
              "      <th>3</th>\n",
              "      <td>4.6</td>\n",
              "      <td>3.1</td>\n",
              "      <td>1.5</td>\n",
              "      <td>0.2</td>\n",
              "      <td>0</td>\n",
              "    </tr>\n",
              "    <tr>\n",
              "      <th>4</th>\n",
              "      <td>5.0</td>\n",
              "      <td>3.6</td>\n",
              "      <td>1.4</td>\n",
              "      <td>0.2</td>\n",
              "      <td>0</td>\n",
              "    </tr>\n",
              "  </tbody>\n",
              "</table>\n",
              "</div>"
            ],
            "text/plain": [
              "   sepal length (cm)  sepal width (cm)  petal length (cm)  petal width (cm)  \\\n",
              "0                5.1               3.5                1.4               0.2   \n",
              "1                4.9               3.0                1.4               0.2   \n",
              "2                4.7               3.2                1.3               0.2   \n",
              "3                4.6               3.1                1.5               0.2   \n",
              "4                5.0               3.6                1.4               0.2   \n",
              "\n",
              "   target  \n",
              "0       0  \n",
              "1       0  \n",
              "2       0  \n",
              "3       0  \n",
              "4       0  "
            ]
          },
          "execution_count": 1,
          "metadata": {},
          "output_type": "execute_result"
        }
      ],
      "source": [
        "import pandas as pd\n",
        "import numpy as np\n",
        "\n",
        "from sklearn import datasets\n",
        "\n",
        "iris_data = datasets.load_iris()\n",
        "df_iris = pd.DataFrame(data=iris_data.data, columns=iris_data.feature_names)\n",
        "df_iris['target'] = pd.Series(iris_data.target)\n",
        "df_iris.head()"
      ]
    },
    {
      "cell_type": "code",
      "execution_count": null,
      "id": "82a4f535-8b47-4278-9ec2-62562829320f",
      "metadata": {
        "id": "82a4f535-8b47-4278-9ec2-62562829320f",
        "outputId": "5f715562-c11a-427b-8e36-dcd9a4312ce3"
      },
      "outputs": [
        {
          "data": {
            "text/html": [
              "<div>\n",
              "<style scoped>\n",
              "    .dataframe tbody tr th:only-of-type {\n",
              "        vertical-align: middle;\n",
              "    }\n",
              "\n",
              "    .dataframe tbody tr th {\n",
              "        vertical-align: top;\n",
              "    }\n",
              "\n",
              "    .dataframe thead th {\n",
              "        text-align: right;\n",
              "    }\n",
              "</style>\n",
              "<table border=\"1\" class=\"dataframe\">\n",
              "  <thead>\n",
              "    <tr style=\"text-align: right;\">\n",
              "      <th></th>\n",
              "      <th>CRIM</th>\n",
              "      <th>ZN</th>\n",
              "      <th>INDUS</th>\n",
              "      <th>CHAS</th>\n",
              "      <th>NOX</th>\n",
              "      <th>RM</th>\n",
              "      <th>AGE</th>\n",
              "      <th>DIS</th>\n",
              "      <th>RAD</th>\n",
              "      <th>TAX</th>\n",
              "      <th>PTRATIO</th>\n",
              "      <th>B</th>\n",
              "      <th>LSTAT</th>\n",
              "      <th>target</th>\n",
              "    </tr>\n",
              "  </thead>\n",
              "  <tbody>\n",
              "    <tr>\n",
              "      <th>0</th>\n",
              "      <td>0.00632</td>\n",
              "      <td>18.0</td>\n",
              "      <td>2.31</td>\n",
              "      <td>0.0</td>\n",
              "      <td>0.538</td>\n",
              "      <td>6.575</td>\n",
              "      <td>65.2</td>\n",
              "      <td>4.0900</td>\n",
              "      <td>1.0</td>\n",
              "      <td>296.0</td>\n",
              "      <td>15.3</td>\n",
              "      <td>396.90</td>\n",
              "      <td>4.98</td>\n",
              "      <td>24.0</td>\n",
              "    </tr>\n",
              "    <tr>\n",
              "      <th>1</th>\n",
              "      <td>0.02731</td>\n",
              "      <td>0.0</td>\n",
              "      <td>7.07</td>\n",
              "      <td>0.0</td>\n",
              "      <td>0.469</td>\n",
              "      <td>6.421</td>\n",
              "      <td>78.9</td>\n",
              "      <td>4.9671</td>\n",
              "      <td>2.0</td>\n",
              "      <td>242.0</td>\n",
              "      <td>17.8</td>\n",
              "      <td>396.90</td>\n",
              "      <td>9.14</td>\n",
              "      <td>21.6</td>\n",
              "    </tr>\n",
              "    <tr>\n",
              "      <th>2</th>\n",
              "      <td>0.02729</td>\n",
              "      <td>0.0</td>\n",
              "      <td>7.07</td>\n",
              "      <td>0.0</td>\n",
              "      <td>0.469</td>\n",
              "      <td>7.185</td>\n",
              "      <td>61.1</td>\n",
              "      <td>4.9671</td>\n",
              "      <td>2.0</td>\n",
              "      <td>242.0</td>\n",
              "      <td>17.8</td>\n",
              "      <td>392.83</td>\n",
              "      <td>4.03</td>\n",
              "      <td>34.7</td>\n",
              "    </tr>\n",
              "    <tr>\n",
              "      <th>3</th>\n",
              "      <td>0.03237</td>\n",
              "      <td>0.0</td>\n",
              "      <td>2.18</td>\n",
              "      <td>0.0</td>\n",
              "      <td>0.458</td>\n",
              "      <td>6.998</td>\n",
              "      <td>45.8</td>\n",
              "      <td>6.0622</td>\n",
              "      <td>3.0</td>\n",
              "      <td>222.0</td>\n",
              "      <td>18.7</td>\n",
              "      <td>394.63</td>\n",
              "      <td>2.94</td>\n",
              "      <td>33.4</td>\n",
              "    </tr>\n",
              "    <tr>\n",
              "      <th>4</th>\n",
              "      <td>0.06905</td>\n",
              "      <td>0.0</td>\n",
              "      <td>2.18</td>\n",
              "      <td>0.0</td>\n",
              "      <td>0.458</td>\n",
              "      <td>7.147</td>\n",
              "      <td>54.2</td>\n",
              "      <td>6.0622</td>\n",
              "      <td>3.0</td>\n",
              "      <td>222.0</td>\n",
              "      <td>18.7</td>\n",
              "      <td>396.90</td>\n",
              "      <td>5.33</td>\n",
              "      <td>36.2</td>\n",
              "    </tr>\n",
              "  </tbody>\n",
              "</table>\n",
              "</div>"
            ],
            "text/plain": [
              "      CRIM    ZN  INDUS  CHAS    NOX     RM   AGE     DIS  RAD    TAX  \\\n",
              "0  0.00632  18.0   2.31   0.0  0.538  6.575  65.2  4.0900  1.0  296.0   \n",
              "1  0.02731   0.0   7.07   0.0  0.469  6.421  78.9  4.9671  2.0  242.0   \n",
              "2  0.02729   0.0   7.07   0.0  0.469  7.185  61.1  4.9671  2.0  242.0   \n",
              "3  0.03237   0.0   2.18   0.0  0.458  6.998  45.8  6.0622  3.0  222.0   \n",
              "4  0.06905   0.0   2.18   0.0  0.458  7.147  54.2  6.0622  3.0  222.0   \n",
              "\n",
              "   PTRATIO       B  LSTAT  target  \n",
              "0     15.3  396.90   4.98    24.0  \n",
              "1     17.8  396.90   9.14    21.6  \n",
              "2     17.8  392.83   4.03    34.7  \n",
              "3     18.7  394.63   2.94    33.4  \n",
              "4     18.7  396.90   5.33    36.2  "
            ]
          },
          "execution_count": 2,
          "metadata": {},
          "output_type": "execute_result"
        }
      ],
      "source": [
        "boston_data = datasets.load_boston()\n",
        "df_boston = pd.DataFrame(boston_data.data,columns=boston_data.feature_names)\n",
        "df_boston['target'] = pd.Series(boston_data.target)\n",
        "df_boston.head()"
      ]
    },
    {
      "cell_type": "markdown",
      "id": "386320db-b0f3-447e-befa-a07c3a019b02",
      "metadata": {
        "id": "386320db-b0f3-447e-befa-a07c3a019b02"
      },
      "source": [
        "### 2. Standardization, Normalization, Scaling (Standard scaler, min-max scaler)"
      ]
    },
    {
      "cell_type": "markdown",
      "id": "a9b0f8a1-924b-4091-af78-9a49b0daa4a2",
      "metadata": {
        "id": "a9b0f8a1-924b-4091-af78-9a49b0daa4a2"
      },
      "source": [
        "\n",
        "In statistics and machine learning, data **standardization** is a process of converting data to z-score values based on the mean and standard deviation of the data.\n",
        "**Z_i = (x_i - mean(x))/SD(x)**"
      ]
    },
    {
      "cell_type": "code",
      "execution_count": null,
      "id": "3cabd4ea-5dd2-4c39-beb2-3a4746071283",
      "metadata": {
        "id": "3cabd4ea-5dd2-4c39-beb2-3a4746071283",
        "outputId": "ac903a4f-1667-4c1d-c845-65010d52a9c3"
      },
      "outputs": [
        {
          "name": "stdout",
          "output_type": "stream",
          "text": [
            "[[-0.41978194  0.28482986 -1.2879095  ...  0.44105193 -1.0755623\n",
            "   0.15968566]\n",
            " [-0.41733926 -0.48772236 -0.59338101 ...  0.44105193 -0.49243937\n",
            "  -0.10152429]\n",
            " [-0.41734159 -0.48772236 -0.59338101 ...  0.39642699 -1.2087274\n",
            "   1.32424667]\n",
            " ...\n",
            " [-0.41344658 -0.48772236  0.11573841 ...  0.44105193 -0.98304761\n",
            "   0.14880191]\n",
            " [-0.40776407 -0.48772236  0.11573841 ...  0.4032249  -0.86530163\n",
            "  -0.0579893 ]\n",
            " [-0.41500016 -0.48772236  0.11573841 ...  0.44105193 -0.66905833\n",
            "  -1.15724782]]\n"
          ]
        }
      ],
      "source": [
        "from sklearn.preprocessing import StandardScaler\n",
        "scaler = StandardScaler()\n",
        "\n",
        "standardized_data = scaler.fit_transform(df_boston)\n",
        "\n",
        "print(standardized_data)"
      ]
    },
    {
      "cell_type": "code",
      "execution_count": null,
      "id": "61258fed-f7ba-4f04-9ebc-7dee05501c24",
      "metadata": {
        "id": "61258fed-f7ba-4f04-9ebc-7dee05501c24",
        "outputId": "c4f8a8e6-3b7e-483d-aad7-4464d686fb12"
      },
      "outputs": [
        {
          "data": {
            "text/html": [
              "<div>\n",
              "<style scoped>\n",
              "    .dataframe tbody tr th:only-of-type {\n",
              "        vertical-align: middle;\n",
              "    }\n",
              "\n",
              "    .dataframe tbody tr th {\n",
              "        vertical-align: top;\n",
              "    }\n",
              "\n",
              "    .dataframe thead th {\n",
              "        text-align: right;\n",
              "    }\n",
              "</style>\n",
              "<table border=\"1\" class=\"dataframe\">\n",
              "  <thead>\n",
              "    <tr style=\"text-align: right;\">\n",
              "      <th></th>\n",
              "      <th>CRIM</th>\n",
              "      <th>ZN</th>\n",
              "      <th>INDUS</th>\n",
              "      <th>CHAS</th>\n",
              "      <th>NOX</th>\n",
              "      <th>RM</th>\n",
              "      <th>AGE</th>\n",
              "      <th>DIS</th>\n",
              "      <th>RAD</th>\n",
              "      <th>TAX</th>\n",
              "      <th>PTRATIO</th>\n",
              "      <th>B</th>\n",
              "      <th>LSTAT</th>\n",
              "      <th>target</th>\n",
              "    </tr>\n",
              "  </thead>\n",
              "  <tbody>\n",
              "    <tr>\n",
              "      <th>0</th>\n",
              "      <td>-0.419782</td>\n",
              "      <td>0.284830</td>\n",
              "      <td>-1.287909</td>\n",
              "      <td>-0.272599</td>\n",
              "      <td>-0.144217</td>\n",
              "      <td>0.413672</td>\n",
              "      <td>-0.120013</td>\n",
              "      <td>0.140214</td>\n",
              "      <td>-0.982843</td>\n",
              "      <td>-0.666608</td>\n",
              "      <td>-1.459000</td>\n",
              "      <td>0.441052</td>\n",
              "      <td>-1.075562</td>\n",
              "      <td>0.159686</td>\n",
              "    </tr>\n",
              "    <tr>\n",
              "      <th>1</th>\n",
              "      <td>-0.417339</td>\n",
              "      <td>-0.487722</td>\n",
              "      <td>-0.593381</td>\n",
              "      <td>-0.272599</td>\n",
              "      <td>-0.740262</td>\n",
              "      <td>0.194274</td>\n",
              "      <td>0.367166</td>\n",
              "      <td>0.557160</td>\n",
              "      <td>-0.867883</td>\n",
              "      <td>-0.987329</td>\n",
              "      <td>-0.303094</td>\n",
              "      <td>0.441052</td>\n",
              "      <td>-0.492439</td>\n",
              "      <td>-0.101524</td>\n",
              "    </tr>\n",
              "    <tr>\n",
              "      <th>2</th>\n",
              "      <td>-0.417342</td>\n",
              "      <td>-0.487722</td>\n",
              "      <td>-0.593381</td>\n",
              "      <td>-0.272599</td>\n",
              "      <td>-0.740262</td>\n",
              "      <td>1.282714</td>\n",
              "      <td>-0.265812</td>\n",
              "      <td>0.557160</td>\n",
              "      <td>-0.867883</td>\n",
              "      <td>-0.987329</td>\n",
              "      <td>-0.303094</td>\n",
              "      <td>0.396427</td>\n",
              "      <td>-1.208727</td>\n",
              "      <td>1.324247</td>\n",
              "    </tr>\n",
              "    <tr>\n",
              "      <th>3</th>\n",
              "      <td>-0.416750</td>\n",
              "      <td>-0.487722</td>\n",
              "      <td>-1.306878</td>\n",
              "      <td>-0.272599</td>\n",
              "      <td>-0.835284</td>\n",
              "      <td>1.016303</td>\n",
              "      <td>-0.809889</td>\n",
              "      <td>1.077737</td>\n",
              "      <td>-0.752922</td>\n",
              "      <td>-1.106115</td>\n",
              "      <td>0.113032</td>\n",
              "      <td>0.416163</td>\n",
              "      <td>-1.361517</td>\n",
              "      <td>1.182758</td>\n",
              "    </tr>\n",
              "    <tr>\n",
              "      <th>4</th>\n",
              "      <td>-0.412482</td>\n",
              "      <td>-0.487722</td>\n",
              "      <td>-1.306878</td>\n",
              "      <td>-0.272599</td>\n",
              "      <td>-0.835284</td>\n",
              "      <td>1.228577</td>\n",
              "      <td>-0.511180</td>\n",
              "      <td>1.077737</td>\n",
              "      <td>-0.752922</td>\n",
              "      <td>-1.106115</td>\n",
              "      <td>0.113032</td>\n",
              "      <td>0.441052</td>\n",
              "      <td>-1.026501</td>\n",
              "      <td>1.487503</td>\n",
              "    </tr>\n",
              "  </tbody>\n",
              "</table>\n",
              "</div>"
            ],
            "text/plain": [
              "       CRIM        ZN     INDUS      CHAS       NOX        RM       AGE  \\\n",
              "0 -0.419782  0.284830 -1.287909 -0.272599 -0.144217  0.413672 -0.120013   \n",
              "1 -0.417339 -0.487722 -0.593381 -0.272599 -0.740262  0.194274  0.367166   \n",
              "2 -0.417342 -0.487722 -0.593381 -0.272599 -0.740262  1.282714 -0.265812   \n",
              "3 -0.416750 -0.487722 -1.306878 -0.272599 -0.835284  1.016303 -0.809889   \n",
              "4 -0.412482 -0.487722 -1.306878 -0.272599 -0.835284  1.228577 -0.511180   \n",
              "\n",
              "        DIS       RAD       TAX   PTRATIO         B     LSTAT    target  \n",
              "0  0.140214 -0.982843 -0.666608 -1.459000  0.441052 -1.075562  0.159686  \n",
              "1  0.557160 -0.867883 -0.987329 -0.303094  0.441052 -0.492439 -0.101524  \n",
              "2  0.557160 -0.867883 -0.987329 -0.303094  0.396427 -1.208727  1.324247  \n",
              "3  1.077737 -0.752922 -1.106115  0.113032  0.416163 -1.361517  1.182758  \n",
              "4  1.077737 -0.752922 -1.106115  0.113032  0.441052 -1.026501  1.487503  "
            ]
          },
          "execution_count": 4,
          "metadata": {},
          "output_type": "execute_result"
        }
      ],
      "source": [
        "standardized_df = pd.DataFrame(standardized_data, columns=df_boston.columns)\n",
        "\n",
        "standardized_df.head()"
      ]
    },
    {
      "cell_type": "markdown",
      "id": "d07dd88d-8037-4389-916e-2daab7e42312",
      "metadata": {
        "id": "d07dd88d-8037-4389-916e-2daab7e42312"
      },
      "source": []
    },
    {
      "cell_type": "markdown",
      "id": "eaa59dc2-6052-433f-ad0e-9e881e22635d",
      "metadata": {
        "id": "eaa59dc2-6052-433f-ad0e-9e881e22635d"
      },
      "source": [
        "Machine learning algorithms tend to perform better or converge faster when the different features (variables) are on a smaller scale. Therefore it is common practice to normalize the data before training machine learning models on it.\n",
        "**Normalization** also makes the training process less sensitive to the scale of the features. This results in getting better coefficients after training.\n",
        "The formula for Normalization is \n",
        "**x_norm = (x-x_min)/(x_max-x_min)**"
      ]
    },
    {
      "cell_type": "code",
      "execution_count": null,
      "id": "eb990d68-6a6a-4e8e-9cc6-70b9c4954a45",
      "metadata": {
        "id": "eb990d68-6a6a-4e8e-9cc6-70b9c4954a45",
        "outputId": "3d3c547b-411f-4e63-9451-b1b1388ae3d2"
      },
      "outputs": [
        {
          "data": {
            "text/html": [
              "<div>\n",
              "<style scoped>\n",
              "    .dataframe tbody tr th:only-of-type {\n",
              "        vertical-align: middle;\n",
              "    }\n",
              "\n",
              "    .dataframe tbody tr th {\n",
              "        vertical-align: top;\n",
              "    }\n",
              "\n",
              "    .dataframe thead th {\n",
              "        text-align: right;\n",
              "    }\n",
              "</style>\n",
              "<table border=\"1\" class=\"dataframe\">\n",
              "  <thead>\n",
              "    <tr style=\"text-align: right;\">\n",
              "      <th></th>\n",
              "      <th>CRIM</th>\n",
              "      <th>ZN</th>\n",
              "      <th>INDUS</th>\n",
              "      <th>CHAS</th>\n",
              "      <th>NOX</th>\n",
              "      <th>RM</th>\n",
              "      <th>AGE</th>\n",
              "      <th>DIS</th>\n",
              "      <th>RAD</th>\n",
              "      <th>TAX</th>\n",
              "      <th>PTRATIO</th>\n",
              "      <th>B</th>\n",
              "      <th>LSTAT</th>\n",
              "      <th>target</th>\n",
              "    </tr>\n",
              "  </thead>\n",
              "  <tbody>\n",
              "    <tr>\n",
              "      <th>0</th>\n",
              "      <td>0.000030</td>\n",
              "      <td>0.030868</td>\n",
              "      <td>0.007853</td>\n",
              "      <td>0.0</td>\n",
              "      <td>0.042208</td>\n",
              "      <td>0.046222</td>\n",
              "      <td>0.039107</td>\n",
              "      <td>0.041904</td>\n",
              "      <td>0.003442</td>\n",
              "      <td>0.029798</td>\n",
              "      <td>0.036604</td>\n",
              "      <td>0.047927</td>\n",
              "      <td>0.015241</td>\n",
              "      <td>0.043845</td>\n",
              "    </tr>\n",
              "    <tr>\n",
              "      <th>1</th>\n",
              "      <td>0.000130</td>\n",
              "      <td>0.000000</td>\n",
              "      <td>0.024035</td>\n",
              "      <td>0.0</td>\n",
              "      <td>0.036795</td>\n",
              "      <td>0.045139</td>\n",
              "      <td>0.047324</td>\n",
              "      <td>0.050890</td>\n",
              "      <td>0.006883</td>\n",
              "      <td>0.024362</td>\n",
              "      <td>0.042585</td>\n",
              "      <td>0.047927</td>\n",
              "      <td>0.027973</td>\n",
              "      <td>0.039461</td>\n",
              "    </tr>\n",
              "    <tr>\n",
              "      <th>2</th>\n",
              "      <td>0.000130</td>\n",
              "      <td>0.000000</td>\n",
              "      <td>0.024035</td>\n",
              "      <td>0.0</td>\n",
              "      <td>0.036795</td>\n",
              "      <td>0.050510</td>\n",
              "      <td>0.036648</td>\n",
              "      <td>0.050890</td>\n",
              "      <td>0.006883</td>\n",
              "      <td>0.024362</td>\n",
              "      <td>0.042585</td>\n",
              "      <td>0.047436</td>\n",
              "      <td>0.012334</td>\n",
              "      <td>0.063393</td>\n",
              "    </tr>\n",
              "    <tr>\n",
              "      <th>3</th>\n",
              "      <td>0.000154</td>\n",
              "      <td>0.000000</td>\n",
              "      <td>0.007411</td>\n",
              "      <td>0.0</td>\n",
              "      <td>0.035932</td>\n",
              "      <td>0.049196</td>\n",
              "      <td>0.027471</td>\n",
              "      <td>0.062109</td>\n",
              "      <td>0.010325</td>\n",
              "      <td>0.022349</td>\n",
              "      <td>0.044738</td>\n",
              "      <td>0.047653</td>\n",
              "      <td>0.008998</td>\n",
              "      <td>0.061018</td>\n",
              "    </tr>\n",
              "    <tr>\n",
              "      <th>4</th>\n",
              "      <td>0.000329</td>\n",
              "      <td>0.000000</td>\n",
              "      <td>0.007411</td>\n",
              "      <td>0.0</td>\n",
              "      <td>0.035932</td>\n",
              "      <td>0.050243</td>\n",
              "      <td>0.032509</td>\n",
              "      <td>0.062109</td>\n",
              "      <td>0.010325</td>\n",
              "      <td>0.022349</td>\n",
              "      <td>0.044738</td>\n",
              "      <td>0.047927</td>\n",
              "      <td>0.016312</td>\n",
              "      <td>0.066133</td>\n",
              "    </tr>\n",
              "  </tbody>\n",
              "</table>\n",
              "</div>"
            ],
            "text/plain": [
              "       CRIM        ZN     INDUS  CHAS       NOX        RM       AGE       DIS  \\\n",
              "0  0.000030  0.030868  0.007853   0.0  0.042208  0.046222  0.039107  0.041904   \n",
              "1  0.000130  0.000000  0.024035   0.0  0.036795  0.045139  0.047324  0.050890   \n",
              "2  0.000130  0.000000  0.024035   0.0  0.036795  0.050510  0.036648  0.050890   \n",
              "3  0.000154  0.000000  0.007411   0.0  0.035932  0.049196  0.027471  0.062109   \n",
              "4  0.000329  0.000000  0.007411   0.0  0.035932  0.050243  0.032509  0.062109   \n",
              "\n",
              "        RAD       TAX   PTRATIO         B     LSTAT    target  \n",
              "0  0.003442  0.029798  0.036604  0.047927  0.015241  0.043845  \n",
              "1  0.006883  0.024362  0.042585  0.047927  0.027973  0.039461  \n",
              "2  0.006883  0.024362  0.042585  0.047436  0.012334  0.063393  \n",
              "3  0.010325  0.022349  0.044738  0.047653  0.008998  0.061018  \n",
              "4  0.010325  0.022349  0.044738  0.047927  0.016312  0.066133  "
            ]
          },
          "execution_count": 5,
          "metadata": {},
          "output_type": "execute_result"
        }
      ],
      "source": [
        "from sklearn import preprocessing\n",
        "d = preprocessing.normalize(df_boston, axis=0)\n",
        "scaled_df = pd.DataFrame(d, columns=df_boston.columns)\n",
        "scaled_df.head()"
      ]
    },
    {
      "cell_type": "markdown",
      "id": "e71f41f8-dda3-48b4-a3b3-04f111340fd4",
      "metadata": {
        "id": "e71f41f8-dda3-48b4-a3b3-04f111340fd4"
      },
      "source": [
        "Using **MinMaxScaler() to Normalize Data** in Python\n",
        "Sklearn provides another option when it comes to normalizing data: MinMaxScaler.\n",
        "\n",
        "This is a more popular choice for normalizing datasets.\n",
        "\n",
        "Here’s the code for normalizing the housing dataset using MinMaxScaler :"
      ]
    },
    {
      "cell_type": "code",
      "execution_count": null,
      "id": "4b8fce58-6f71-421b-a30d-dd48a801fd9b",
      "metadata": {
        "id": "4b8fce58-6f71-421b-a30d-dd48a801fd9b",
        "outputId": "32b38bad-b22c-4f8a-afaa-f45e0c6f67a7"
      },
      "outputs": [
        {
          "data": {
            "text/html": [
              "<div>\n",
              "<style scoped>\n",
              "    .dataframe tbody tr th:only-of-type {\n",
              "        vertical-align: middle;\n",
              "    }\n",
              "\n",
              "    .dataframe tbody tr th {\n",
              "        vertical-align: top;\n",
              "    }\n",
              "\n",
              "    .dataframe thead th {\n",
              "        text-align: right;\n",
              "    }\n",
              "</style>\n",
              "<table border=\"1\" class=\"dataframe\">\n",
              "  <thead>\n",
              "    <tr style=\"text-align: right;\">\n",
              "      <th></th>\n",
              "      <th>CRIM</th>\n",
              "      <th>ZN</th>\n",
              "      <th>INDUS</th>\n",
              "      <th>CHAS</th>\n",
              "      <th>NOX</th>\n",
              "      <th>RM</th>\n",
              "      <th>AGE</th>\n",
              "      <th>DIS</th>\n",
              "      <th>RAD</th>\n",
              "      <th>TAX</th>\n",
              "      <th>PTRATIO</th>\n",
              "      <th>B</th>\n",
              "      <th>LSTAT</th>\n",
              "      <th>target</th>\n",
              "    </tr>\n",
              "  </thead>\n",
              "  <tbody>\n",
              "    <tr>\n",
              "      <th>0</th>\n",
              "      <td>0.000000</td>\n",
              "      <td>0.18</td>\n",
              "      <td>0.067815</td>\n",
              "      <td>0.0</td>\n",
              "      <td>0.314815</td>\n",
              "      <td>0.577505</td>\n",
              "      <td>0.641607</td>\n",
              "      <td>0.269203</td>\n",
              "      <td>0.000000</td>\n",
              "      <td>0.208015</td>\n",
              "      <td>0.287234</td>\n",
              "      <td>1.000000</td>\n",
              "      <td>0.089680</td>\n",
              "      <td>0.422222</td>\n",
              "    </tr>\n",
              "    <tr>\n",
              "      <th>1</th>\n",
              "      <td>0.000236</td>\n",
              "      <td>0.00</td>\n",
              "      <td>0.242302</td>\n",
              "      <td>0.0</td>\n",
              "      <td>0.172840</td>\n",
              "      <td>0.547998</td>\n",
              "      <td>0.782698</td>\n",
              "      <td>0.348962</td>\n",
              "      <td>0.043478</td>\n",
              "      <td>0.104962</td>\n",
              "      <td>0.553191</td>\n",
              "      <td>1.000000</td>\n",
              "      <td>0.204470</td>\n",
              "      <td>0.368889</td>\n",
              "    </tr>\n",
              "    <tr>\n",
              "      <th>2</th>\n",
              "      <td>0.000236</td>\n",
              "      <td>0.00</td>\n",
              "      <td>0.242302</td>\n",
              "      <td>0.0</td>\n",
              "      <td>0.172840</td>\n",
              "      <td>0.694386</td>\n",
              "      <td>0.599382</td>\n",
              "      <td>0.348962</td>\n",
              "      <td>0.043478</td>\n",
              "      <td>0.104962</td>\n",
              "      <td>0.553191</td>\n",
              "      <td>0.989737</td>\n",
              "      <td>0.063466</td>\n",
              "      <td>0.660000</td>\n",
              "    </tr>\n",
              "    <tr>\n",
              "      <th>3</th>\n",
              "      <td>0.000293</td>\n",
              "      <td>0.00</td>\n",
              "      <td>0.063050</td>\n",
              "      <td>0.0</td>\n",
              "      <td>0.150206</td>\n",
              "      <td>0.658555</td>\n",
              "      <td>0.441813</td>\n",
              "      <td>0.448545</td>\n",
              "      <td>0.086957</td>\n",
              "      <td>0.066794</td>\n",
              "      <td>0.648936</td>\n",
              "      <td>0.994276</td>\n",
              "      <td>0.033389</td>\n",
              "      <td>0.631111</td>\n",
              "    </tr>\n",
              "    <tr>\n",
              "      <th>4</th>\n",
              "      <td>0.000705</td>\n",
              "      <td>0.00</td>\n",
              "      <td>0.063050</td>\n",
              "      <td>0.0</td>\n",
              "      <td>0.150206</td>\n",
              "      <td>0.687105</td>\n",
              "      <td>0.528321</td>\n",
              "      <td>0.448545</td>\n",
              "      <td>0.086957</td>\n",
              "      <td>0.066794</td>\n",
              "      <td>0.648936</td>\n",
              "      <td>1.000000</td>\n",
              "      <td>0.099338</td>\n",
              "      <td>0.693333</td>\n",
              "    </tr>\n",
              "  </tbody>\n",
              "</table>\n",
              "</div>"
            ],
            "text/plain": [
              "       CRIM    ZN     INDUS  CHAS       NOX        RM       AGE       DIS  \\\n",
              "0  0.000000  0.18  0.067815   0.0  0.314815  0.577505  0.641607  0.269203   \n",
              "1  0.000236  0.00  0.242302   0.0  0.172840  0.547998  0.782698  0.348962   \n",
              "2  0.000236  0.00  0.242302   0.0  0.172840  0.694386  0.599382  0.348962   \n",
              "3  0.000293  0.00  0.063050   0.0  0.150206  0.658555  0.441813  0.448545   \n",
              "4  0.000705  0.00  0.063050   0.0  0.150206  0.687105  0.528321  0.448545   \n",
              "\n",
              "        RAD       TAX   PTRATIO         B     LSTAT    target  \n",
              "0  0.000000  0.208015  0.287234  1.000000  0.089680  0.422222  \n",
              "1  0.043478  0.104962  0.553191  1.000000  0.204470  0.368889  \n",
              "2  0.043478  0.104962  0.553191  0.989737  0.063466  0.660000  \n",
              "3  0.086957  0.066794  0.648936  0.994276  0.033389  0.631111  \n",
              "4  0.086957  0.066794  0.648936  1.000000  0.099338  0.693333  "
            ]
          },
          "execution_count": 6,
          "metadata": {},
          "output_type": "execute_result"
        }
      ],
      "source": [
        "from sklearn.preprocessing import MinMaxScaler\n",
        "\n",
        "scaler = MinMaxScaler()\n",
        "\n",
        "normalized_data = scaler.fit_transform(df_boston)\n",
        "\n",
        "normalized_df = pd.DataFrame(normalized_data, columns=df_boston.columns)\n",
        "\n",
        "normalized_df.head()"
      ]
    },
    {
      "cell_type": "markdown",
      "id": "0f3c7d04-f168-49b6-badc-cf2b1e46fb68",
      "metadata": {
        "id": "0f3c7d04-f168-49b6-badc-cf2b1e46fb68"
      },
      "source": [
        "### 3. Label Encoder, Label binarizer, oneHot Encoder"
      ]
    },
    {
      "cell_type": "markdown",
      "id": "3b330257-0853-40d3-90ab-a750ae410ce2",
      "metadata": {
        "id": "3b330257-0853-40d3-90ab-a750ae410ce2"
      },
      "source": [
        "**Label Encoding** refers to converting the labels into a numeric form so as to convert them into the machine-readable form. Machine learning algorithms can then decide in a better way how those labels must be operated. It is an important pre-processing step for the structured dataset in supervised learning."
      ]
    },
    {
      "cell_type": "code",
      "execution_count": null,
      "id": "814f75da-80ae-447b-af85-cd6328ab4464",
      "metadata": {
        "id": "814f75da-80ae-447b-af85-cd6328ab4464",
        "outputId": "5adaa6ec-e9ac-427b-971f-ba7df5ff332d"
      },
      "outputs": [
        {
          "data": {
            "text/plain": [
              "LabelEncoder()"
            ]
          },
          "execution_count": 7,
          "metadata": {},
          "output_type": "execute_result"
        }
      ],
      "source": [
        "le = preprocessing.LabelEncoder()\n",
        "le.fit([\"paris\", \"paris\", \"tokyo\", \"amsterdam\"])\n"
      ]
    },
    {
      "cell_type": "code",
      "execution_count": null,
      "id": "78eb75fb-86ad-4a1a-9ba9-c38b8d568287",
      "metadata": {
        "id": "78eb75fb-86ad-4a1a-9ba9-c38b8d568287",
        "outputId": "28b991e9-3312-48e9-b73a-a1d8be51c065"
      },
      "outputs": [
        {
          "data": {
            "text/plain": [
              "['amsterdam', 'paris', 'tokyo']"
            ]
          },
          "execution_count": 8,
          "metadata": {},
          "output_type": "execute_result"
        }
      ],
      "source": [
        "list(le.classes_)"
      ]
    },
    {
      "cell_type": "code",
      "execution_count": null,
      "id": "7a728512-59c6-4079-9a8d-acb463a4f40b",
      "metadata": {
        "id": "7a728512-59c6-4079-9a8d-acb463a4f40b",
        "outputId": "ab6c6974-35a6-4ce4-d7b1-bbc46e79057a"
      },
      "outputs": [
        {
          "data": {
            "text/plain": [
              "array([2, 2, 1])"
            ]
          },
          "execution_count": 9,
          "metadata": {},
          "output_type": "execute_result"
        }
      ],
      "source": [
        "le.transform([\"tokyo\", \"tokyo\", \"paris\"])"
      ]
    },
    {
      "cell_type": "code",
      "execution_count": null,
      "id": "e7c6db89-af5b-49d1-bf60-2eac8098db35",
      "metadata": {
        "id": "e7c6db89-af5b-49d1-bf60-2eac8098db35",
        "outputId": "bc16ef43-73a3-4839-ace7-6c7ce94a11e3"
      },
      "outputs": [
        {
          "data": {
            "text/plain": [
              "['tokyo', 'tokyo', 'paris']"
            ]
          },
          "execution_count": 10,
          "metadata": {},
          "output_type": "execute_result"
        }
      ],
      "source": [
        "list(le.inverse_transform([2, 2, 1]))"
      ]
    },
    {
      "cell_type": "markdown",
      "id": "2bd526ba-d37a-4f2c-8194-37b813f51aeb",
      "metadata": {
        "id": "2bd526ba-d37a-4f2c-8194-37b813f51aeb"
      },
      "source": [
        "Difference between Label Encoding and One-hot Encoding\n",
        "1. **Label Encoder:** The categorical values are labeled into numeric values by assigning each category to a number.\n",
        "\n",
        "   **One-hot Encoding:** A column with categorical values is split into multiple columns.\n",
        "   \n",
        "2. **Label Encoder:** Different columns are not added. Rather different categories are converted into numeric values.      So fewer computations.\n",
        "\n",
        "   **One-hot Encoding:** It will add more columns and will be computationally heavy\n",
        "   \n",
        "3. **Label Encoder:** Unique information is there\n",
        "\n",
        "   **One-hot Encoding:** Redundant information is there\n",
        "   \n",
        "4. **Label Encoder:** Different integers are used to represent data\n",
        "\n",
        "   **One-hot Encoding:** Only 0 and 1 are used to represent data"
      ]
    },
    {
      "cell_type": "code",
      "execution_count": null,
      "id": "192069df-873e-4193-88fc-5238e18b427d",
      "metadata": {
        "id": "192069df-873e-4193-88fc-5238e18b427d",
        "outputId": "48c949c3-e19f-4d07-bdb1-ef0eb917abe7"
      },
      "outputs": [
        {
          "name": "stdout",
          "output_type": "stream",
          "text": [
            "Data:\n",
            "  ['cold' 'cold' 'warm' 'cold' 'hot' 'hot' 'warm' 'cold' 'warm' 'hot']\n",
            "Label Encoder:\n",
            " [0 0 2 0 1 1 2 0 2 1]\n",
            "OneHot Encoder:\n",
            " [[1. 0. 0.]\n",
            " [1. 0. 0.]\n",
            " [0. 0. 1.]\n",
            " [1. 0. 0.]\n",
            " [0. 1. 0.]\n",
            " [0. 1. 0.]\n",
            " [0. 0. 1.]\n",
            " [1. 0. 0.]\n",
            " [0. 0. 1.]\n",
            " [0. 1. 0.]]\n",
            "Label Binarizer:\n",
            " [[1 0 0]\n",
            " [1 0 0]\n",
            " [0 0 1]\n",
            " [1 0 0]\n",
            " [0 1 0]\n",
            " [0 1 0]\n",
            " [0 0 1]\n",
            " [1 0 0]\n",
            " [0 0 1]\n",
            " [0 1 0]]\n"
          ]
        }
      ],
      "source": [
        "from numpy import array\n",
        "from sklearn.preprocessing import LabelEncoder\n",
        "from sklearn.preprocessing import OneHotEncoder\n",
        "from sklearn.preprocessing import LabelBinarizer\n",
        "\n",
        "# define example\n",
        "data = ['cold', 'cold', 'warm', 'cold', 'hot', 'hot', 'warm', 'cold', \n",
        "'warm', 'hot']\n",
        "values = array(data)\n",
        "print(\"Data:\\n \", values)\n",
        "# integer encode\n",
        "label_encoder = LabelEncoder()\n",
        "integer_encoded = label_encoder.fit_transform(values)\n",
        "print(\"Label Encoder:\\n\" ,integer_encoded)\n",
        "\n",
        "# onehot encode\n",
        "onehot_encoder = OneHotEncoder(sparse=False)\n",
        "integer_encoded = integer_encoded.reshape(len(integer_encoded), 1)\n",
        "onehot_encoded = onehot_encoder.fit_transform(integer_encoded)\n",
        "print(\"OneHot Encoder:\\n\", onehot_encoded)\n",
        "\n",
        "#Binary encode\n",
        "lb = LabelBinarizer()\n",
        "print(\"Label Binarizer:\\n\", lb.fit_transform(values))"
      ]
    },
    {
      "cell_type": "markdown",
      "id": "8466beb6-f285-445d-97ff-41f2ae43d089",
      "metadata": {
        "id": "8466beb6-f285-445d-97ff-41f2ae43d089"
      },
      "source": [
        "### 4. Discretization"
      ]
    },
    {
      "cell_type": "markdown",
      "id": "88a671c8-d941-4f16-b00e-8bf76f9ba670",
      "metadata": {
        "id": "88a671c8-d941-4f16-b00e-8bf76f9ba670"
      },
      "source": [
        "**Data discretization** is the process of converting continuous data into discrete buckets by grouping it. Discretization is also known for easy maintainability of the data. Training a model with discrete data becomes faster and more effective than when attempting the same with continuous data. Although continuous-valued data contains more information, huge amounts of data can slow the model down. Here, discretization can help us strike a balance between both. Some famous methods of data discretization are binning and using a histogram. Although data discretization is useful, we need to effectively pick the range of each bucket, which is a challenge. \n",
        "\n",
        "The main challenge in discretization is to choose the number of intervals or bins and how to decide on their width.\n",
        "\n",
        "Here we make use of a function called **pandas.cut()**. This function is useful to achieve the bucketing and sorting of segmented data."
      ]
    },
    {
      "cell_type": "code",
      "execution_count": null,
      "id": "b03804ab-9f09-4970-acba-bfb367119667",
      "metadata": {
        "id": "b03804ab-9f09-4970-acba-bfb367119667",
        "outputId": "4db58c9e-bb75-487e-a5a8-42105575b386"
      },
      "outputs": [
        {
          "data": {
            "text/html": [
              "<div>\n",
              "<style scoped>\n",
              "    .dataframe tbody tr th:only-of-type {\n",
              "        vertical-align: middle;\n",
              "    }\n",
              "\n",
              "    .dataframe tbody tr th {\n",
              "        vertical-align: top;\n",
              "    }\n",
              "\n",
              "    .dataframe thead th {\n",
              "        text-align: right;\n",
              "    }\n",
              "</style>\n",
              "<table border=\"1\" class=\"dataframe\">\n",
              "  <thead>\n",
              "    <tr style=\"text-align: right;\">\n",
              "      <th></th>\n",
              "      <th>CRIM</th>\n",
              "      <th>ZN</th>\n",
              "      <th>INDUS</th>\n",
              "      <th>CHAS</th>\n",
              "      <th>NOX</th>\n",
              "      <th>RM</th>\n",
              "      <th>AGE</th>\n",
              "      <th>DIS</th>\n",
              "      <th>RAD</th>\n",
              "      <th>TAX</th>\n",
              "      <th>PTRATIO</th>\n",
              "      <th>B</th>\n",
              "      <th>LSTAT</th>\n",
              "      <th>target</th>\n",
              "      <th>binned</th>\n",
              "    </tr>\n",
              "  </thead>\n",
              "  <tbody>\n",
              "    <tr>\n",
              "      <th>0</th>\n",
              "      <td>0.00632</td>\n",
              "      <td>18.0</td>\n",
              "      <td>2.31</td>\n",
              "      <td>0.0</td>\n",
              "      <td>0.538</td>\n",
              "      <td>6.575</td>\n",
              "      <td>65.2</td>\n",
              "      <td>4.0900</td>\n",
              "      <td>1.0</td>\n",
              "      <td>296.0</td>\n",
              "      <td>15.3</td>\n",
              "      <td>396.90</td>\n",
              "      <td>4.98</td>\n",
              "      <td>24.0</td>\n",
              "      <td>3</td>\n",
              "    </tr>\n",
              "    <tr>\n",
              "      <th>1</th>\n",
              "      <td>0.02731</td>\n",
              "      <td>0.0</td>\n",
              "      <td>7.07</td>\n",
              "      <td>0.0</td>\n",
              "      <td>0.469</td>\n",
              "      <td>6.421</td>\n",
              "      <td>78.9</td>\n",
              "      <td>4.9671</td>\n",
              "      <td>2.0</td>\n",
              "      <td>242.0</td>\n",
              "      <td>17.8</td>\n",
              "      <td>396.90</td>\n",
              "      <td>9.14</td>\n",
              "      <td>21.6</td>\n",
              "      <td>4</td>\n",
              "    </tr>\n",
              "    <tr>\n",
              "      <th>2</th>\n",
              "      <td>0.02729</td>\n",
              "      <td>0.0</td>\n",
              "      <td>7.07</td>\n",
              "      <td>0.0</td>\n",
              "      <td>0.469</td>\n",
              "      <td>7.185</td>\n",
              "      <td>61.1</td>\n",
              "      <td>4.9671</td>\n",
              "      <td>2.0</td>\n",
              "      <td>242.0</td>\n",
              "      <td>17.8</td>\n",
              "      <td>392.83</td>\n",
              "      <td>4.03</td>\n",
              "      <td>34.7</td>\n",
              "      <td>3</td>\n",
              "    </tr>\n",
              "    <tr>\n",
              "      <th>3</th>\n",
              "      <td>0.03237</td>\n",
              "      <td>0.0</td>\n",
              "      <td>2.18</td>\n",
              "      <td>0.0</td>\n",
              "      <td>0.458</td>\n",
              "      <td>6.998</td>\n",
              "      <td>45.8</td>\n",
              "      <td>6.0622</td>\n",
              "      <td>3.0</td>\n",
              "      <td>222.0</td>\n",
              "      <td>18.7</td>\n",
              "      <td>394.63</td>\n",
              "      <td>2.94</td>\n",
              "      <td>33.4</td>\n",
              "      <td>2</td>\n",
              "    </tr>\n",
              "    <tr>\n",
              "      <th>4</th>\n",
              "      <td>0.06905</td>\n",
              "      <td>0.0</td>\n",
              "      <td>2.18</td>\n",
              "      <td>0.0</td>\n",
              "      <td>0.458</td>\n",
              "      <td>7.147</td>\n",
              "      <td>54.2</td>\n",
              "      <td>6.0622</td>\n",
              "      <td>3.0</td>\n",
              "      <td>222.0</td>\n",
              "      <td>18.7</td>\n",
              "      <td>396.90</td>\n",
              "      <td>5.33</td>\n",
              "      <td>36.2</td>\n",
              "      <td>3</td>\n",
              "    </tr>\n",
              "  </tbody>\n",
              "</table>\n",
              "</div>"
            ],
            "text/plain": [
              "      CRIM    ZN  INDUS  CHAS    NOX     RM   AGE     DIS  RAD    TAX  \\\n",
              "0  0.00632  18.0   2.31   0.0  0.538  6.575  65.2  4.0900  1.0  296.0   \n",
              "1  0.02731   0.0   7.07   0.0  0.469  6.421  78.9  4.9671  2.0  242.0   \n",
              "2  0.02729   0.0   7.07   0.0  0.469  7.185  61.1  4.9671  2.0  242.0   \n",
              "3  0.03237   0.0   2.18   0.0  0.458  6.998  45.8  6.0622  3.0  222.0   \n",
              "4  0.06905   0.0   2.18   0.0  0.458  7.147  54.2  6.0622  3.0  222.0   \n",
              "\n",
              "   PTRATIO       B  LSTAT  target binned  \n",
              "0     15.3  396.90   4.98    24.0      3  \n",
              "1     17.8  396.90   9.14    21.6      4  \n",
              "2     17.8  392.83   4.03    34.7      3  \n",
              "3     18.7  394.63   2.94    33.4      2  \n",
              "4     18.7  396.90   5.33    36.2      3  "
            ]
          },
          "execution_count": 12,
          "metadata": {},
          "output_type": "execute_result"
        }
      ],
      "source": [
        "df_boston['binned']=pd.cut(x=df_boston['AGE'], bins=[0,18,36,54,72,100],labels = [0, 1, 2,3,4])\n",
        "df_boston.head()"
      ]
    },
    {
      "cell_type": "markdown",
      "id": "8d58808e-093d-4922-873e-eca6c533deb2",
      "metadata": {
        "id": "8d58808e-093d-4922-873e-eca6c533deb2"
      },
      "source": [
        "### 5. Feature Selection"
      ]
    },
    {
      "cell_type": "markdown",
      "id": "a1a87530-c91c-4c5e-a2e1-2dbfa63e604e",
      "metadata": {
        "id": "a1a87530-c91c-4c5e-a2e1-2dbfa63e604e"
      },
      "source": [
        "#### 5.1 Removing features with low variance\n",
        "VarianceThreshold is a simple baseline approach to feature selection. It removes all features whose variance doesn’t meet some threshold. By default, it removes all zero-variance features, i.e. features that have the same value in all samples. \n",
        "threshold=(.8 * (1 - .8) means if variance is 0 for 80% of samples then those values will be removed."
      ]
    },
    {
      "cell_type": "code",
      "execution_count": null,
      "id": "418748ce-9454-4ca8-909d-62ddbc6a55da",
      "metadata": {
        "id": "418748ce-9454-4ca8-909d-62ddbc6a55da",
        "outputId": "d9f7d551-8316-479f-ca82-a14c51758be0"
      },
      "outputs": [
        {
          "data": {
            "text/html": [
              "<div>\n",
              "<style scoped>\n",
              "    .dataframe tbody tr th:only-of-type {\n",
              "        vertical-align: middle;\n",
              "    }\n",
              "\n",
              "    .dataframe tbody tr th {\n",
              "        vertical-align: top;\n",
              "    }\n",
              "\n",
              "    .dataframe thead th {\n",
              "        text-align: right;\n",
              "    }\n",
              "</style>\n",
              "<table border=\"1\" class=\"dataframe\">\n",
              "  <thead>\n",
              "    <tr style=\"text-align: right;\">\n",
              "      <th></th>\n",
              "      <th>0</th>\n",
              "      <th>1</th>\n",
              "      <th>2</th>\n",
              "      <th>3</th>\n",
              "      <th>4</th>\n",
              "      <th>5</th>\n",
              "      <th>6</th>\n",
              "      <th>7</th>\n",
              "      <th>8</th>\n",
              "      <th>9</th>\n",
              "      <th>10</th>\n",
              "      <th>11</th>\n",
              "      <th>12</th>\n",
              "    </tr>\n",
              "  </thead>\n",
              "  <tbody>\n",
              "    <tr>\n",
              "      <th>0</th>\n",
              "      <td>0.00632</td>\n",
              "      <td>18.0</td>\n",
              "      <td>2.31</td>\n",
              "      <td>6.575</td>\n",
              "      <td>65.2</td>\n",
              "      <td>4.0900</td>\n",
              "      <td>1.0</td>\n",
              "      <td>296.0</td>\n",
              "      <td>15.3</td>\n",
              "      <td>396.90</td>\n",
              "      <td>4.98</td>\n",
              "      <td>24.0</td>\n",
              "      <td>3.0</td>\n",
              "    </tr>\n",
              "    <tr>\n",
              "      <th>1</th>\n",
              "      <td>0.02731</td>\n",
              "      <td>0.0</td>\n",
              "      <td>7.07</td>\n",
              "      <td>6.421</td>\n",
              "      <td>78.9</td>\n",
              "      <td>4.9671</td>\n",
              "      <td>2.0</td>\n",
              "      <td>242.0</td>\n",
              "      <td>17.8</td>\n",
              "      <td>396.90</td>\n",
              "      <td>9.14</td>\n",
              "      <td>21.6</td>\n",
              "      <td>4.0</td>\n",
              "    </tr>\n",
              "    <tr>\n",
              "      <th>2</th>\n",
              "      <td>0.02729</td>\n",
              "      <td>0.0</td>\n",
              "      <td>7.07</td>\n",
              "      <td>7.185</td>\n",
              "      <td>61.1</td>\n",
              "      <td>4.9671</td>\n",
              "      <td>2.0</td>\n",
              "      <td>242.0</td>\n",
              "      <td>17.8</td>\n",
              "      <td>392.83</td>\n",
              "      <td>4.03</td>\n",
              "      <td>34.7</td>\n",
              "      <td>3.0</td>\n",
              "    </tr>\n",
              "    <tr>\n",
              "      <th>3</th>\n",
              "      <td>0.03237</td>\n",
              "      <td>0.0</td>\n",
              "      <td>2.18</td>\n",
              "      <td>6.998</td>\n",
              "      <td>45.8</td>\n",
              "      <td>6.0622</td>\n",
              "      <td>3.0</td>\n",
              "      <td>222.0</td>\n",
              "      <td>18.7</td>\n",
              "      <td>394.63</td>\n",
              "      <td>2.94</td>\n",
              "      <td>33.4</td>\n",
              "      <td>2.0</td>\n",
              "    </tr>\n",
              "    <tr>\n",
              "      <th>4</th>\n",
              "      <td>0.06905</td>\n",
              "      <td>0.0</td>\n",
              "      <td>2.18</td>\n",
              "      <td>7.147</td>\n",
              "      <td>54.2</td>\n",
              "      <td>6.0622</td>\n",
              "      <td>3.0</td>\n",
              "      <td>222.0</td>\n",
              "      <td>18.7</td>\n",
              "      <td>396.90</td>\n",
              "      <td>5.33</td>\n",
              "      <td>36.2</td>\n",
              "      <td>3.0</td>\n",
              "    </tr>\n",
              "  </tbody>\n",
              "</table>\n",
              "</div>"
            ],
            "text/plain": [
              "        0     1     2      3     4       5    6      7     8       9     10  \\\n",
              "0  0.00632  18.0  2.31  6.575  65.2  4.0900  1.0  296.0  15.3  396.90  4.98   \n",
              "1  0.02731   0.0  7.07  6.421  78.9  4.9671  2.0  242.0  17.8  396.90  9.14   \n",
              "2  0.02729   0.0  7.07  7.185  61.1  4.9671  2.0  242.0  17.8  392.83  4.03   \n",
              "3  0.03237   0.0  2.18  6.998  45.8  6.0622  3.0  222.0  18.7  394.63  2.94   \n",
              "4  0.06905   0.0  2.18  7.147  54.2  6.0622  3.0  222.0  18.7  396.90  5.33   \n",
              "\n",
              "     11   12  \n",
              "0  24.0  3.0  \n",
              "1  21.6  4.0  \n",
              "2  34.7  3.0  \n",
              "3  33.4  2.0  \n",
              "4  36.2  3.0  "
            ]
          },
          "execution_count": 13,
          "metadata": {},
          "output_type": "execute_result"
        }
      ],
      "source": [
        "from sklearn.feature_selection import VarianceThreshold\n",
        "#X = [[0, 0, 1], [0, 1, 0], [1, 0, 0], [0, 1, 1], [0, 1, 0], [0, 1, 1]]\n",
        "sel = VarianceThreshold(threshold=(.8 * (1 - .8)))\n",
        "fsel_data = sel.fit_transform(df_boston)\n",
        "fsel_df = pd.DataFrame(fsel_data)\n",
        "fsel_df.head()"
      ]
    },
    {
      "cell_type": "code",
      "execution_count": null,
      "id": "7d59c8eb-b221-4b5a-8844-be121187f548",
      "metadata": {
        "id": "7d59c8eb-b221-4b5a-8844-be121187f548",
        "outputId": "0df9eb21-9845-4a62-a018-14d88dbf7e0f"
      },
      "outputs": [
        {
          "data": {
            "text/html": [
              "<div>\n",
              "<style scoped>\n",
              "    .dataframe tbody tr th:only-of-type {\n",
              "        vertical-align: middle;\n",
              "    }\n",
              "\n",
              "    .dataframe tbody tr th {\n",
              "        vertical-align: top;\n",
              "    }\n",
              "\n",
              "    .dataframe thead th {\n",
              "        text-align: right;\n",
              "    }\n",
              "</style>\n",
              "<table border=\"1\" class=\"dataframe\">\n",
              "  <thead>\n",
              "    <tr style=\"text-align: right;\">\n",
              "      <th></th>\n",
              "      <th>CRIM</th>\n",
              "      <th>ZN</th>\n",
              "      <th>INDUS</th>\n",
              "      <th>CHAS</th>\n",
              "      <th>NOX</th>\n",
              "      <th>RM</th>\n",
              "      <th>AGE</th>\n",
              "      <th>DIS</th>\n",
              "      <th>RAD</th>\n",
              "      <th>TAX</th>\n",
              "      <th>PTRATIO</th>\n",
              "      <th>B</th>\n",
              "      <th>LSTAT</th>\n",
              "      <th>target</th>\n",
              "      <th>binned</th>\n",
              "    </tr>\n",
              "  </thead>\n",
              "  <tbody>\n",
              "    <tr>\n",
              "      <th>0</th>\n",
              "      <td>0.00632</td>\n",
              "      <td>18.0</td>\n",
              "      <td>2.31</td>\n",
              "      <td>0.0</td>\n",
              "      <td>0.538</td>\n",
              "      <td>6.575</td>\n",
              "      <td>65.2</td>\n",
              "      <td>4.0900</td>\n",
              "      <td>1.0</td>\n",
              "      <td>296.0</td>\n",
              "      <td>15.3</td>\n",
              "      <td>396.90</td>\n",
              "      <td>4.98</td>\n",
              "      <td>24.0</td>\n",
              "      <td>3</td>\n",
              "    </tr>\n",
              "    <tr>\n",
              "      <th>1</th>\n",
              "      <td>0.02731</td>\n",
              "      <td>0.0</td>\n",
              "      <td>7.07</td>\n",
              "      <td>0.0</td>\n",
              "      <td>0.469</td>\n",
              "      <td>6.421</td>\n",
              "      <td>78.9</td>\n",
              "      <td>4.9671</td>\n",
              "      <td>2.0</td>\n",
              "      <td>242.0</td>\n",
              "      <td>17.8</td>\n",
              "      <td>396.90</td>\n",
              "      <td>9.14</td>\n",
              "      <td>21.6</td>\n",
              "      <td>4</td>\n",
              "    </tr>\n",
              "    <tr>\n",
              "      <th>2</th>\n",
              "      <td>0.02729</td>\n",
              "      <td>0.0</td>\n",
              "      <td>7.07</td>\n",
              "      <td>0.0</td>\n",
              "      <td>0.469</td>\n",
              "      <td>7.185</td>\n",
              "      <td>61.1</td>\n",
              "      <td>4.9671</td>\n",
              "      <td>2.0</td>\n",
              "      <td>242.0</td>\n",
              "      <td>17.8</td>\n",
              "      <td>392.83</td>\n",
              "      <td>4.03</td>\n",
              "      <td>34.7</td>\n",
              "      <td>3</td>\n",
              "    </tr>\n",
              "    <tr>\n",
              "      <th>3</th>\n",
              "      <td>0.03237</td>\n",
              "      <td>0.0</td>\n",
              "      <td>2.18</td>\n",
              "      <td>0.0</td>\n",
              "      <td>0.458</td>\n",
              "      <td>6.998</td>\n",
              "      <td>45.8</td>\n",
              "      <td>6.0622</td>\n",
              "      <td>3.0</td>\n",
              "      <td>222.0</td>\n",
              "      <td>18.7</td>\n",
              "      <td>394.63</td>\n",
              "      <td>2.94</td>\n",
              "      <td>33.4</td>\n",
              "      <td>2</td>\n",
              "    </tr>\n",
              "    <tr>\n",
              "      <th>4</th>\n",
              "      <td>0.06905</td>\n",
              "      <td>0.0</td>\n",
              "      <td>2.18</td>\n",
              "      <td>0.0</td>\n",
              "      <td>0.458</td>\n",
              "      <td>7.147</td>\n",
              "      <td>54.2</td>\n",
              "      <td>6.0622</td>\n",
              "      <td>3.0</td>\n",
              "      <td>222.0</td>\n",
              "      <td>18.7</td>\n",
              "      <td>396.90</td>\n",
              "      <td>5.33</td>\n",
              "      <td>36.2</td>\n",
              "      <td>3</td>\n",
              "    </tr>\n",
              "  </tbody>\n",
              "</table>\n",
              "</div>"
            ],
            "text/plain": [
              "      CRIM    ZN  INDUS  CHAS    NOX     RM   AGE     DIS  RAD    TAX  \\\n",
              "0  0.00632  18.0   2.31   0.0  0.538  6.575  65.2  4.0900  1.0  296.0   \n",
              "1  0.02731   0.0   7.07   0.0  0.469  6.421  78.9  4.9671  2.0  242.0   \n",
              "2  0.02729   0.0   7.07   0.0  0.469  7.185  61.1  4.9671  2.0  242.0   \n",
              "3  0.03237   0.0   2.18   0.0  0.458  6.998  45.8  6.0622  3.0  222.0   \n",
              "4  0.06905   0.0   2.18   0.0  0.458  7.147  54.2  6.0622  3.0  222.0   \n",
              "\n",
              "   PTRATIO       B  LSTAT  target binned  \n",
              "0     15.3  396.90   4.98    24.0      3  \n",
              "1     17.8  396.90   9.14    21.6      4  \n",
              "2     17.8  392.83   4.03    34.7      3  \n",
              "3     18.7  394.63   2.94    33.4      2  \n",
              "4     18.7  396.90   5.33    36.2      3  "
            ]
          },
          "execution_count": 14,
          "metadata": {},
          "output_type": "execute_result"
        }
      ],
      "source": [
        "df_boston.head()"
      ]
    },
    {
      "cell_type": "markdown",
      "id": "c07c072f-b09d-4707-91af-967e0994007d",
      "metadata": {
        "id": "c07c072f-b09d-4707-91af-967e0994007d"
      },
      "source": [
        "Columns \"CHAS\", \"NOX\" removed by variance threshold feature selection as >80% of their samples had variance 0."
      ]
    },
    {
      "cell_type": "markdown",
      "id": "173d9c7f-f016-48d3-971f-da67dce0fc63",
      "metadata": {
        "id": "173d9c7f-f016-48d3-971f-da67dce0fc63"
      },
      "source": [
        "### 6. Feature Extraction (LDA, PCA)"
      ]
    },
    {
      "cell_type": "markdown",
      "id": "dbddc989-e6fe-4727-99cc-eaa12b765611",
      "metadata": {
        "id": "dbddc989-e6fe-4727-99cc-eaa12b765611"
      },
      "source": [
        "#### 6.1 PCA"
      ]
    },
    {
      "cell_type": "code",
      "execution_count": null,
      "id": "5586f270-961e-49b2-9210-b187f34fc632",
      "metadata": {
        "id": "5586f270-961e-49b2-9210-b187f34fc632",
        "outputId": "0da7f336-95eb-4206-851b-2a7407d5644e"
      },
      "outputs": [
        {
          "data": {
            "text/html": [
              "<div>\n",
              "<style scoped>\n",
              "    .dataframe tbody tr th:only-of-type {\n",
              "        vertical-align: middle;\n",
              "    }\n",
              "\n",
              "    .dataframe tbody tr th {\n",
              "        vertical-align: top;\n",
              "    }\n",
              "\n",
              "    .dataframe thead th {\n",
              "        text-align: right;\n",
              "    }\n",
              "</style>\n",
              "<table border=\"1\" class=\"dataframe\">\n",
              "  <thead>\n",
              "    <tr style=\"text-align: right;\">\n",
              "      <th></th>\n",
              "      <th>mean radius</th>\n",
              "      <th>mean texture</th>\n",
              "      <th>mean perimeter</th>\n",
              "      <th>mean area</th>\n",
              "      <th>mean smoothness</th>\n",
              "      <th>mean compactness</th>\n",
              "      <th>mean concavity</th>\n",
              "      <th>mean concave points</th>\n",
              "      <th>mean symmetry</th>\n",
              "      <th>mean fractal dimension</th>\n",
              "      <th>...</th>\n",
              "      <th>worst radius</th>\n",
              "      <th>worst texture</th>\n",
              "      <th>worst perimeter</th>\n",
              "      <th>worst area</th>\n",
              "      <th>worst smoothness</th>\n",
              "      <th>worst compactness</th>\n",
              "      <th>worst concavity</th>\n",
              "      <th>worst concave points</th>\n",
              "      <th>worst symmetry</th>\n",
              "      <th>worst fractal dimension</th>\n",
              "    </tr>\n",
              "  </thead>\n",
              "  <tbody>\n",
              "    <tr>\n",
              "      <th>0</th>\n",
              "      <td>17.99</td>\n",
              "      <td>10.38</td>\n",
              "      <td>122.80</td>\n",
              "      <td>1001.0</td>\n",
              "      <td>0.11840</td>\n",
              "      <td>0.27760</td>\n",
              "      <td>0.3001</td>\n",
              "      <td>0.14710</td>\n",
              "      <td>0.2419</td>\n",
              "      <td>0.07871</td>\n",
              "      <td>...</td>\n",
              "      <td>25.38</td>\n",
              "      <td>17.33</td>\n",
              "      <td>184.60</td>\n",
              "      <td>2019.0</td>\n",
              "      <td>0.1622</td>\n",
              "      <td>0.6656</td>\n",
              "      <td>0.7119</td>\n",
              "      <td>0.2654</td>\n",
              "      <td>0.4601</td>\n",
              "      <td>0.11890</td>\n",
              "    </tr>\n",
              "    <tr>\n",
              "      <th>1</th>\n",
              "      <td>20.57</td>\n",
              "      <td>17.77</td>\n",
              "      <td>132.90</td>\n",
              "      <td>1326.0</td>\n",
              "      <td>0.08474</td>\n",
              "      <td>0.07864</td>\n",
              "      <td>0.0869</td>\n",
              "      <td>0.07017</td>\n",
              "      <td>0.1812</td>\n",
              "      <td>0.05667</td>\n",
              "      <td>...</td>\n",
              "      <td>24.99</td>\n",
              "      <td>23.41</td>\n",
              "      <td>158.80</td>\n",
              "      <td>1956.0</td>\n",
              "      <td>0.1238</td>\n",
              "      <td>0.1866</td>\n",
              "      <td>0.2416</td>\n",
              "      <td>0.1860</td>\n",
              "      <td>0.2750</td>\n",
              "      <td>0.08902</td>\n",
              "    </tr>\n",
              "    <tr>\n",
              "      <th>2</th>\n",
              "      <td>19.69</td>\n",
              "      <td>21.25</td>\n",
              "      <td>130.00</td>\n",
              "      <td>1203.0</td>\n",
              "      <td>0.10960</td>\n",
              "      <td>0.15990</td>\n",
              "      <td>0.1974</td>\n",
              "      <td>0.12790</td>\n",
              "      <td>0.2069</td>\n",
              "      <td>0.05999</td>\n",
              "      <td>...</td>\n",
              "      <td>23.57</td>\n",
              "      <td>25.53</td>\n",
              "      <td>152.50</td>\n",
              "      <td>1709.0</td>\n",
              "      <td>0.1444</td>\n",
              "      <td>0.4245</td>\n",
              "      <td>0.4504</td>\n",
              "      <td>0.2430</td>\n",
              "      <td>0.3613</td>\n",
              "      <td>0.08758</td>\n",
              "    </tr>\n",
              "    <tr>\n",
              "      <th>3</th>\n",
              "      <td>11.42</td>\n",
              "      <td>20.38</td>\n",
              "      <td>77.58</td>\n",
              "      <td>386.1</td>\n",
              "      <td>0.14250</td>\n",
              "      <td>0.28390</td>\n",
              "      <td>0.2414</td>\n",
              "      <td>0.10520</td>\n",
              "      <td>0.2597</td>\n",
              "      <td>0.09744</td>\n",
              "      <td>...</td>\n",
              "      <td>14.91</td>\n",
              "      <td>26.50</td>\n",
              "      <td>98.87</td>\n",
              "      <td>567.7</td>\n",
              "      <td>0.2098</td>\n",
              "      <td>0.8663</td>\n",
              "      <td>0.6869</td>\n",
              "      <td>0.2575</td>\n",
              "      <td>0.6638</td>\n",
              "      <td>0.17300</td>\n",
              "    </tr>\n",
              "    <tr>\n",
              "      <th>4</th>\n",
              "      <td>20.29</td>\n",
              "      <td>14.34</td>\n",
              "      <td>135.10</td>\n",
              "      <td>1297.0</td>\n",
              "      <td>0.10030</td>\n",
              "      <td>0.13280</td>\n",
              "      <td>0.1980</td>\n",
              "      <td>0.10430</td>\n",
              "      <td>0.1809</td>\n",
              "      <td>0.05883</td>\n",
              "      <td>...</td>\n",
              "      <td>22.54</td>\n",
              "      <td>16.67</td>\n",
              "      <td>152.20</td>\n",
              "      <td>1575.0</td>\n",
              "      <td>0.1374</td>\n",
              "      <td>0.2050</td>\n",
              "      <td>0.4000</td>\n",
              "      <td>0.1625</td>\n",
              "      <td>0.2364</td>\n",
              "      <td>0.07678</td>\n",
              "    </tr>\n",
              "  </tbody>\n",
              "</table>\n",
              "<p>5 rows × 30 columns</p>\n",
              "</div>"
            ],
            "text/plain": [
              "   mean radius  mean texture  mean perimeter  mean area  mean smoothness  \\\n",
              "0        17.99         10.38          122.80     1001.0          0.11840   \n",
              "1        20.57         17.77          132.90     1326.0          0.08474   \n",
              "2        19.69         21.25          130.00     1203.0          0.10960   \n",
              "3        11.42         20.38           77.58      386.1          0.14250   \n",
              "4        20.29         14.34          135.10     1297.0          0.10030   \n",
              "\n",
              "   mean compactness  mean concavity  mean concave points  mean symmetry  \\\n",
              "0           0.27760          0.3001              0.14710         0.2419   \n",
              "1           0.07864          0.0869              0.07017         0.1812   \n",
              "2           0.15990          0.1974              0.12790         0.2069   \n",
              "3           0.28390          0.2414              0.10520         0.2597   \n",
              "4           0.13280          0.1980              0.10430         0.1809   \n",
              "\n",
              "   mean fractal dimension  ...  worst radius  worst texture  worst perimeter  \\\n",
              "0                 0.07871  ...         25.38          17.33           184.60   \n",
              "1                 0.05667  ...         24.99          23.41           158.80   \n",
              "2                 0.05999  ...         23.57          25.53           152.50   \n",
              "3                 0.09744  ...         14.91          26.50            98.87   \n",
              "4                 0.05883  ...         22.54          16.67           152.20   \n",
              "\n",
              "   worst area  worst smoothness  worst compactness  worst concavity  \\\n",
              "0      2019.0            0.1622             0.6656           0.7119   \n",
              "1      1956.0            0.1238             0.1866           0.2416   \n",
              "2      1709.0            0.1444             0.4245           0.4504   \n",
              "3       567.7            0.2098             0.8663           0.6869   \n",
              "4      1575.0            0.1374             0.2050           0.4000   \n",
              "\n",
              "   worst concave points  worst symmetry  worst fractal dimension  \n",
              "0                0.2654          0.4601                  0.11890  \n",
              "1                0.1860          0.2750                  0.08902  \n",
              "2                0.2430          0.3613                  0.08758  \n",
              "3                0.2575          0.6638                  0.17300  \n",
              "4                0.1625          0.2364                  0.07678  \n",
              "\n",
              "[5 rows x 30 columns]"
            ]
          },
          "execution_count": 15,
          "metadata": {},
          "output_type": "execute_result"
        }
      ],
      "source": [
        "# Here we are using inbuilt dataset of scikit learn\n",
        "from sklearn.datasets import load_breast_cancer\n",
        "  \n",
        "# instantiating\n",
        "cancer = load_breast_cancer()\n",
        "  \n",
        "# creating dataframe\n",
        "df = pd.DataFrame(cancer['data'], columns = cancer['feature_names'])\n",
        "  \n",
        "# checking head of dataframe\n",
        "df.head()"
      ]
    },
    {
      "cell_type": "code",
      "execution_count": null,
      "id": "162e6197-c37c-466c-b4e8-5603887273b0",
      "metadata": {
        "id": "162e6197-c37c-466c-b4e8-5603887273b0",
        "outputId": "2d6899b6-e282-49a7-fab9-299b00367b03"
      },
      "outputs": [
        {
          "data": {
            "text/plain": [
              "(569, 2)"
            ]
          },
          "execution_count": 16,
          "metadata": {},
          "output_type": "execute_result"
        }
      ],
      "source": [
        "# Importing standardscalar module \n",
        "from sklearn.preprocessing import StandardScaler\n",
        "  \n",
        "scalar = StandardScaler()\n",
        "  \n",
        "# fitting\n",
        "scalar.fit(df)\n",
        "scaled_data = scalar.transform(df)\n",
        "  \n",
        "# Importing PCA\n",
        "from sklearn.decomposition import PCA\n",
        "  \n",
        "# Let's say, components = 2\n",
        "pca = PCA(n_components = 2)\n",
        "pca.fit(scaled_data)\n",
        "x_pca = pca.transform(scaled_data)\n",
        "  \n",
        "x_pca.shape"
      ]
    },
    {
      "cell_type": "code",
      "execution_count": null,
      "id": "3d20ae18-1124-4c28-a09c-a971ac5f3ca9",
      "metadata": {
        "id": "3d20ae18-1124-4c28-a09c-a971ac5f3ca9",
        "outputId": "1616a8bd-001a-4502-9f45-4b48cf57f74d"
      },
      "outputs": [
        {
          "data": {
            "text/plain": [
              "Text(0, 0.5, 'Second Principal Component')"
            ]
          },
          "execution_count": 20,
          "metadata": {},
          "output_type": "execute_result"
        },
        {
          "data": {
            "image/png": "[encoded data removed]",
            "text/plain": [
              "<Figure size 576x432 with 1 Axes>"
            ]
          },
          "metadata": {
            "needs_background": "light"
          },
          "output_type": "display_data"
        }
      ],
      "source": [
        "from matplotlib import pyplot as plt\n",
        "# giving a larger plot\n",
        "plt.figure(figsize =(8, 6))\n",
        "  \n",
        "plt.scatter(x_pca[:, 0], x_pca[:, 1], c = cancer['target'], cmap ='plasma')\n",
        "  \n",
        "# labeling x and y axes\n",
        "plt.xlabel('First Principal Component')\n",
        "plt.ylabel('Second Principal Component')"
      ]
    },
    {
      "cell_type": "code",
      "execution_count": null,
      "id": "063a269b-dae6-4130-9711-2ece2c41ebbe",
      "metadata": {
        "id": "063a269b-dae6-4130-9711-2ece2c41ebbe",
        "outputId": "e2c8d590-1ea4-490f-c021-7b0777635c20"
      },
      "outputs": [
        {
          "data": {
            "text/plain": [
              "array([[ 0.21890244,  0.10372458,  0.22753729,  0.22099499,  0.14258969,\n",
              "         0.23928535,  0.25840048,  0.26085376,  0.13816696,  0.06436335,\n",
              "         0.20597878,  0.01742803,  0.21132592,  0.20286964,  0.01453145,\n",
              "         0.17039345,  0.15358979,  0.1834174 ,  0.04249842,  0.10256832,\n",
              "         0.22799663,  0.10446933,  0.23663968,  0.22487053,  0.12795256,\n",
              "         0.21009588,  0.22876753,  0.25088597,  0.12290456,  0.13178394],\n",
              "       [-0.23385713, -0.05970609, -0.21518136, -0.23107671,  0.18611302,\n",
              "         0.15189161,  0.06016536, -0.0347675 ,  0.19034877,  0.36657547,\n",
              "        -0.10555215,  0.08997968, -0.08945723, -0.15229263,  0.20443045,\n",
              "         0.2327159 ,  0.19720728,  0.13032156,  0.183848  ,  0.28009203,\n",
              "        -0.21986638, -0.0454673 , -0.19987843, -0.21935186,  0.17230435,\n",
              "         0.14359317,  0.09796411, -0.00825724,  0.14188335,  0.27533947]])"
            ]
          },
          "execution_count": 21,
          "metadata": {},
          "output_type": "execute_result"
        }
      ],
      "source": [
        "pca.components_"
      ]
    },
    {
      "cell_type": "markdown",
      "id": "7145e61e-db50-4049-9970-b16bd2de1b13",
      "metadata": {
        "id": "7145e61e-db50-4049-9970-b16bd2de1b13"
      },
      "source": [
        "### Q: Predict Sepal length in Iris dataset"
      ]
    },
    {
      "cell_type": "code",
      "execution_count": null,
      "id": "be45d95d-540c-4293-9b68-afa38403d124",
      "metadata": {
        "id": "be45d95d-540c-4293-9b68-afa38403d124"
      },
      "outputs": [],
      "source": [
        "#loading dataset\n",
        "from sklearn.datasets import load_iris\n",
        "data = load_iris()\n",
        "x = data['data']\n",
        "#separation of data into x and y\n",
        "y = x[:,0]\n",
        "x = x[:,1:4]"
      ]
    },
    {
      "cell_type": "markdown",
      "id": "636b3906-b6e3-4f55-a5ff-5097c23e189b",
      "metadata": {
        "id": "636b3906-b6e3-4f55-a5ff-5097c23e189b"
      },
      "source": [
        "##### Prediction using SKLEARN"
      ]
    },
    {
      "cell_type": "code",
      "execution_count": null,
      "id": "1427429e-160e-48ca-8b7c-4fafd11c89fc",
      "metadata": {
        "id": "1427429e-160e-48ca-8b7c-4fafd11c89fc"
      },
      "outputs": [],
      "source": [
        "#implementation using sklearn\n",
        "#splitting dataset into train set and test set\n",
        "from sklearn.model_selection import train_test_split\n",
        "x_train, x_test, y_train, y_test = train_test_split(x,y,test_size = 0.25,random_state=0)\n",
        "#creating model\n",
        "from sklearn.linear_model import LinearRegression\n",
        "regressor = LinearRegression()\n",
        "regressor.fit(x_train, y_train)\n",
        "y_pred = regressor.predict(x_test)"
      ]
    },
    {
      "cell_type": "code",
      "execution_count": null,
      "id": "bae59dcc-3cdf-4798-9eb2-e3fcdcab9818",
      "metadata": {
        "id": "bae59dcc-3cdf-4798-9eb2-e3fcdcab9818",
        "outputId": "eda155b3-8ffe-4a5a-9d69-08bfdb3e3ca2"
      },
      "outputs": [
        {
          "name": "stdout",
          "output_type": "stream",
          "text": [
            "R2Score 72.60811953040603\n"
          ]
        }
      ],
      "source": [
        "from sklearn.metrics import r2_score\n",
        "r2score = r2_score(y_test,y_pred)\n",
        "print(\"R2Score\",r2score*100)"
      ]
    },
    {
      "cell_type": "markdown",
      "id": "249cf8a0-e55c-49f8-a2ba-7d990258b740",
      "metadata": {
        "id": "249cf8a0-e55c-49f8-a2ba-7d990258b740"
      },
      "source": [
        "#### Prediction using equation \n",
        "$Y = βX$, where\n",
        "\n",
        "$β = (X^TX)^{-1}X^{T}Y$"
      ]
    },
    {
      "cell_type": "code",
      "execution_count": null,
      "id": "dbd04aec-ffa7-43df-9dce-3cc239e7fc22",
      "metadata": {
        "id": "dbd04aec-ffa7-43df-9dce-3cc239e7fc22",
        "outputId": "d7d4f932-2e71-41fd-d469-41528f753cc7"
      },
      "outputs": [
        {
          "name": "stdout",
          "output_type": "stream",
          "text": [
            "[ 1.11833096  0.87349176 -0.81477536]\n",
            "[5.63067381 5.1395198  5.75692343 7.27956223 4.94960784 6.89450434\n",
            " 4.80526505 6.35007422 6.18340164 5.56608577 6.65852885 6.28720896\n",
            " 6.25900753 5.92722575 6.20788556 5.16740239 5.95170967 5.77329381\n",
            " 4.33344874 5.1711199  5.7818856  6.06354277 5.29900454 4.30309318\n",
            " 5.85749149 4.73652815 5.58338186 5.93996639 4.63990866 4.87400194\n",
            " 6.80443502 6.06354277 5.06144094 6.16850686 6.23037476 5.28542596\n",
            " 5.49016104 6.170661  ]\n"
          ]
        }
      ],
      "source": [
        "import numpy as np\n",
        "x = x_test\n",
        "x_T = x.transpose()\n",
        "x_T_x = x_T.dot(x)\n",
        "x_T_x_inv = np.linalg.inv(x_T_x)\n",
        "beta = x_T_x_inv.dot(x_T).dot(y_test)\n",
        "print(beta)\n",
        "beta_x = beta.dot(x_T)\n",
        "print(beta_x)"
      ]
    },
    {
      "cell_type": "code",
      "execution_count": null,
      "id": "f3b00053-4de2-4bce-beb5-017de63b3225",
      "metadata": {
        "id": "f3b00053-4de2-4bce-beb5-017de63b3225",
        "outputId": "bd1143fa-6106-4dfc-bb1a-e1c943c61c0c"
      },
      "outputs": [
        {
          "name": "stdout",
          "output_type": "stream",
          "text": [
            "R2Score 70.99401512456086\n"
          ]
        }
      ],
      "source": [
        "from sklearn.metrics import r2_score\n",
        "r2score1 = r2_score(y_test,beta_x)\n",
        "print(\"R2Score\",r2score1*100)"
      ]
    },
    {
      "cell_type": "code",
      "execution_count": null,
      "id": "72aaf3b3-a41d-4bd6-bd97-625f2775a81f",
      "metadata": {
        "id": "72aaf3b3-a41d-4bd6-bd97-625f2775a81f",
        "outputId": "42e92952-43ed-4360-bd83-4e5c5e43e71a"
      },
      "outputs": [
        {
          "data": {
            "image/png": "[encoded data removed]",
            "text/plain": [
              "<Figure size 432x288 with 1 Axes>"
            ]
          },
          "metadata": {
            "needs_background": "light"
          },
          "output_type": "display_data"
        }
      ],
      "source": [
        "plt.plot(np.arange(len(beta_x)),beta_x)\n",
        "plt.plot(np.arange(len(x_test)),y_pred)\n",
        "plt.plot(np.arange(len(x_test)),y_test)\n",
        "plt.legend(['Y Calculated', 'Y Predicted','Actual Y'])\n",
        "plt.title('Y_pred vs Y_calculated vs Actual Y')\n",
        "plt.show()"
      ]
    },
    {
      "cell_type": "code",
      "execution_count": null,
      "id": "dfbbb617-adff-48e9-8c22-88d60897cfc1",
      "metadata": {
        "id": "dfbbb617-adff-48e9-8c22-88d60897cfc1"
      },
      "outputs": [],
      "source": [
        "\n"
      ]
    }
  ],
  "metadata": {
    "kernelspec": {
      "display_name": "Python 3 (ipykernel)",
      "language": "python",
      "name": "python3"
    },
    "language_info": {
      "codemirror_mode": {
        "name": "ipython",
        "version": 3
      },
      "file_extension": ".py",
      "mimetype": "text/x-python",
      "name": "python",
      "nbconvert_exporter": "python",
      "pygments_lexer": "ipython3",
      "version": "3.9.7"
    },
    "colab": {
      "provenance": []
    }
  },
  "nbformat": 4,
  "nbformat_minor": 5
}